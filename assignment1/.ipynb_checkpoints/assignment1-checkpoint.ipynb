{
 "cells": [
  {
   "cell_type": "markdown",
   "metadata": {},
   "source": [
    "# Assignment 1: Tabular Reinforcement Learning\n",
    "\n",
    "-----\n",
    "\n",
    "*CS260R 2023Fall: Reinforcement Learning. Department of Computer Science at University of California, Los Angeles. Course Instructor: Professor Bolei ZHOU. Assignment author: Zhenghao PENG, Yiran WANG.*\n",
    "\n",
    "\n"
   ]
  },
  {
   "cell_type": "markdown",
   "metadata": {},
   "source": [
    "|    Student Name     |        Student ID         |\n",
    "|:-------------------:|:-------------------------:|\n",
    "| Shangyu | 306295155 |\n",
    "\n",
    "------"
   ]
  },
  {
   "cell_type": "markdown",
   "metadata": {},
   "source": [
    "Welcome to the assignment 1 of our reinforcement learning course. The objective of this assignment is for you to understand the classic methods used in tabular RL. \n",
    "\n",
    "This assignment has the following sections:\n",
    "\n",
    " - Section 1: Warm-up on the RL environment (35 points)\n",
    " - Section 2: Implementation of the model-based family of algorithms: policy iteration and value iteration. (65 points)\n",
    "\n",
    "You need to go through this self-contained notebook, with dozens of **TODO**s are scattered in the cells. You need to finish all TODOs.\n",
    "\n",
    "You are encouraged to add more code on extra cells at the end of each section to investigate the problems you think interesting. At the end of the file, we leave a place for you to write comments optionally (Yes, please give us either negative or positive rewards so that we can keep improving the assignment!).\n",
    "\n",
    "Please report any code bugs to us via [**GitHub issues**](https://github.com/ucla-rlcourse/assignment-2022fall).\n",
    "\n",
    "Before you get start, remember to follow the instruction at https://github.com/ucla-rlcourse/assignment-2022fall/tree/main/assignment0\n",
    "to set up your python environment.\n",
    "\n"
   ]
  },
  {
   "cell_type": "markdown",
   "metadata": {},
   "source": [
    "## Dependencies\n",
    "\n",
    "\n",
    "This assignment requires the following dependencies:\n",
    "\n",
    "1. `gymnasium==0.29.1`\n",
    "2. `numpy`\n",
    "3. `scipy`\n",
    "\n",
    "You can install all of them through the following cell:"
   ]
  },
  {
   "cell_type": "code",
   "execution_count": 71,
   "metadata": {
    "scrolled": true
   },
   "outputs": [
    {
     "name": "stdout",
     "output_type": "stream",
     "text": [
      "Requirement already satisfied: pip in /opt/homebrew/lib/python3.11/site-packages (23.3.1)\n",
      "Requirement already satisfied: mediapy in /opt/homebrew/lib/python3.11/site-packages (1.1.9)\n",
      "Requirement already satisfied: numpy in /opt/homebrew/lib/python3.11/site-packages (1.26.0)\n",
      "Requirement already satisfied: scipy in /opt/homebrew/lib/python3.11/site-packages (1.11.1)\n",
      "Requirement already satisfied: gymnasium==0.29.1 in /opt/homebrew/lib/python3.11/site-packages (0.29.1)\n",
      "Requirement already satisfied: cloudpickle>=1.2.0 in /opt/homebrew/lib/python3.11/site-packages (from gymnasium==0.29.1) (2.2.1)\n",
      "Requirement already satisfied: typing-extensions>=4.3.0 in /opt/homebrew/lib/python3.11/site-packages (from gymnasium==0.29.1) (4.7.1)\n",
      "Requirement already satisfied: farama-notifications>=0.0.1 in /opt/homebrew/lib/python3.11/site-packages (from gymnasium==0.29.1) (0.0.4)\n",
      "Requirement already satisfied: pygame>=2.1.3 in /opt/homebrew/lib/python3.11/site-packages (from gymnasium[toy-text]==0.29.1) (2.5.2)\n",
      "Requirement already satisfied: ipython in /opt/homebrew/lib/python3.11/site-packages (from mediapy) (8.16.0)\n",
      "Requirement already satisfied: matplotlib in /opt/homebrew/lib/python3.11/site-packages (from mediapy) (3.7.2)\n",
      "Requirement already satisfied: Pillow in /opt/homebrew/lib/python3.11/site-packages (from mediapy) (9.5.0)\n",
      "Requirement already satisfied: backcall in /opt/homebrew/lib/python3.11/site-packages (from ipython->mediapy) (0.2.0)\n",
      "Requirement already satisfied: decorator in /opt/homebrew/lib/python3.11/site-packages (from ipython->mediapy) (5.1.1)\n",
      "Requirement already satisfied: jedi>=0.16 in /opt/homebrew/lib/python3.11/site-packages (from ipython->mediapy) (0.19.0)\n",
      "Requirement already satisfied: matplotlib-inline in /opt/homebrew/lib/python3.11/site-packages (from ipython->mediapy) (0.1.6)\n",
      "Requirement already satisfied: pickleshare in /opt/homebrew/lib/python3.11/site-packages (from ipython->mediapy) (0.7.5)\n",
      "Requirement already satisfied: prompt-toolkit!=3.0.37,<3.1.0,>=3.0.30 in /opt/homebrew/lib/python3.11/site-packages (from ipython->mediapy) (3.0.39)\n",
      "Requirement already satisfied: pygments>=2.4.0 in /opt/homebrew/lib/python3.11/site-packages (from ipython->mediapy) (2.16.1)\n",
      "Requirement already satisfied: stack-data in /opt/homebrew/lib/python3.11/site-packages (from ipython->mediapy) (0.6.3)\n",
      "Requirement already satisfied: traitlets>=5 in /opt/homebrew/lib/python3.11/site-packages (from ipython->mediapy) (5.10.1)\n",
      "Requirement already satisfied: pexpect>4.3 in /opt/homebrew/lib/python3.11/site-packages (from ipython->mediapy) (4.8.0)\n",
      "Requirement already satisfied: appnope in /opt/homebrew/lib/python3.11/site-packages (from ipython->mediapy) (0.1.3)\n",
      "Requirement already satisfied: contourpy>=1.0.1 in /opt/homebrew/lib/python3.11/site-packages (from matplotlib->mediapy) (1.1.0)\n",
      "Requirement already satisfied: cycler>=0.10 in /opt/homebrew/lib/python3.11/site-packages (from matplotlib->mediapy) (0.11.0)\n",
      "Requirement already satisfied: fonttools>=4.22.0 in /opt/homebrew/lib/python3.11/site-packages (from matplotlib->mediapy) (4.41.1)\n",
      "Requirement already satisfied: kiwisolver>=1.0.1 in /opt/homebrew/lib/python3.11/site-packages (from matplotlib->mediapy) (1.4.4)\n",
      "Requirement already satisfied: packaging>=20.0 in /opt/homebrew/lib/python3.11/site-packages (from matplotlib->mediapy) (23.1)\n",
      "Requirement already satisfied: pyparsing<3.1,>=2.3.1 in /opt/homebrew/lib/python3.11/site-packages (from matplotlib->mediapy) (3.0.9)\n",
      "Requirement already satisfied: python-dateutil>=2.7 in /opt/homebrew/lib/python3.11/site-packages (from matplotlib->mediapy) (2.8.2)\n",
      "Requirement already satisfied: parso<0.9.0,>=0.8.3 in /opt/homebrew/lib/python3.11/site-packages (from jedi>=0.16->ipython->mediapy) (0.8.3)\n",
      "Requirement already satisfied: ptyprocess>=0.5 in /opt/homebrew/lib/python3.11/site-packages (from pexpect>4.3->ipython->mediapy) (0.7.0)\n",
      "Requirement already satisfied: wcwidth in /opt/homebrew/lib/python3.11/site-packages (from prompt-toolkit!=3.0.37,<3.1.0,>=3.0.30->ipython->mediapy) (0.2.8)\n",
      "Requirement already satisfied: six>=1.5 in /opt/homebrew/lib/python3.11/site-packages (from python-dateutil>=2.7->matplotlib->mediapy) (1.16.0)\n",
      "Requirement already satisfied: executing>=1.2.0 in /opt/homebrew/lib/python3.11/site-packages (from stack-data->ipython->mediapy) (2.0.0)\n",
      "Requirement already satisfied: asttokens>=2.1.0 in /opt/homebrew/lib/python3.11/site-packages (from stack-data->ipython->mediapy) (2.4.0)\n",
      "Requirement already satisfied: pure-eval in /opt/homebrew/lib/python3.11/site-packages (from stack-data->ipython->mediapy) (0.2.2)\n"
     ]
    }
   ],
   "source": [
    "# If you already installed everything, you don't need to run this cell.\n",
    "# Install dependencies to your current python environment.\n",
    "\n",
    "!pip install -U pip\n",
    "!pip install mediapy numpy scipy \"gymnasium==0.29.1\" \"gymnasium[toy-text]==0.29.1\""
   ]
  },
  {
   "cell_type": "markdown",
   "metadata": {},
   "source": [
    "Now start running the cells sequentially (by `ctrl + enter` or `shift + enter`) to avoid unnecessary errors by skipping some cells. \n",
    "\n",
    "\n",
    "## Section 1: Warm-up on the RL environment\n",
    "\n",
    "(35/100 points)\n",
    "\n",
    "In this section, we will go through the basic concepts of RL environments using OpenAI Gym. Besides, you will get the first sense of the toy environment we will use in the rest of the assignment.\n",
    "\n",
    "Every Gym environment should contain the following attributes:\n",
    "\n",
    "1. `env.step(action)` To advance the environment by one time step through applying `action`. Will return four things: `observation, reward, terminated, truncated, info`, wherein `terminated` is a boolean value indicating whether this **episode** is finished either by the agent successfully finishes the task or makes something wrong so the episode is not valid (like the agent dies), `truncated` is a boolean value indicating whether this episode reach the maximum step limit. We sometime use `done = terminated or truncated` as an indicator that an episode is ended. `info` is a dict containing some information the user is interested in.\n",
    "2. `env.reset()` To reset the environment, back to the initial state. Will return the initial observation of the new episode.\n",
    "3. `env.render()` To render the current state of the environment for human-being\n",
    "4. `env.action_space` The allowed action format. In our case, it is `Discrete(4)` which means the action is an integer in the range [0, 1, 2, 3]. Therefore, the `action` for `step(action)` should obey the limit of the action space.\n",
    "5. `env.observation_space` The observation space.\n",
    "\n",
    "\n",
    "Note that the word **episode** means the process that an agent interacts with the environment from the initial state to the terminal state. Within one episode, the agent will only receive one `done=True`, when it goes to the terminal state (the agent is dead or the game is over).\n",
    "\n",
    "We will use `FrozenLake8x8-v1` as our environment. In this environment, the agent controls the movement of a *character* in a grid world. Some tiles of the grid are walkable, and others are not, making to the agent falling into the water. Additionally, the movement direction of the agent is uncertain and only partially depends on the chosen direction. The agent is rewarded for finding a walkable path to a goal tile. The meaning of each character:\n",
    "\n",
    "1. S : starting point, safe\n",
    "2. F : frozen surface, safe\n",
    "3. H : hole, fall to your doom\n",
    "4. G : goal, where the frisbee is located\n"
   ]
  },
  {
   "cell_type": "code",
   "execution_count": 72,
   "metadata": {},
   "outputs": [],
   "source": [
    "# Run this cell without modification\n",
    "\n",
    "import time\n",
    "from typing import List, Callable\n",
    "\n",
    "# Import some packages that we need to use\n",
    "import gymnasium as gym\n",
    "import numpy as np\n",
    "# Prepare some useful functions\n",
    "from IPython.display import clear_output\n",
    "import mediapy as media\n",
    "import matplotlib.pyplot as plt\n",
    "%matplotlib inline\n",
    "\n",
    "\n",
    "def wait(sleep=0.2):\n",
    "    clear_output(wait=True)\n",
    "    time.sleep(sleep)\n",
    "\n",
    "\n",
    "def print_table(data):\n",
    "    if data.ndim == 2:\n",
    "        for i in range(data.shape[1]):\n",
    "            print(\"\\n=== The state value for action {} ===\".format(i))\n",
    "            print_table(data[:, i])\n",
    "        return\n",
    "    assert data.ndim == 1, data\n",
    "    if data.shape[0] == 16:  # FrozenLake-v0\n",
    "        text = \"+-----+-----+-----+-----+-----+\\n\" \\\n",
    "               \"|     |   0 |   1 |   2 |   3 |\\n\" \\\n",
    "               \"|-----+-----+-----+-----+-----+\\n\"\n",
    "        for row in range(4):\n",
    "            tmp = \"| {}   |{:.3f}|{:.3f}|{:.3f}|{:.3f}|\\n\" \\\n",
    "                  \"|     |     |     |     |     |\\n\" \\\n",
    "                  \"+-----+-----+-----+-----+-----+\\n\" \\\n",
    "                  \"\".format(\n",
    "                row, *[data[row * 4 + col] for col in range(4)]\n",
    "            )\n",
    "            text = text + tmp\n",
    "    else:\n",
    "        text = \"+-----+-----+-----State Value Mapping-----+-----+-----+\\n\" \\\n",
    "               \"|     |   0 |   1 |   2 |   3 |   4 |   5 |   6 |   7 |\\n\" \\\n",
    "               \"|-----+-----+-----+-----+-----+-----+-----+-----+-----|\\n\"\n",
    "        for row in range(8):\n",
    "            tmp = \"| {}   |{:.3f}|{:.3f}|{:.3f}|{:.3f}|{:.3f}|{:.3f}|{:.3f}|{\" \\\n",
    "                  \":.3f}|\\n\" \\\n",
    "                  \"|     |     |     |     |     |     |     |     |     |\\n\" \\\n",
    "                  \"+-----+-----+-----+-----+-----+-----+-----+-----+-----+\\n\" \\\n",
    "                  \"\".format(\n",
    "                row, *[data[row * 8 + col] for col in range(8)]\n",
    "            )\n",
    "            text = text + tmp\n",
    "    print(text)\n",
    "\n",
    "\n",
    "def test_random_policy(policy, env):\n",
    "    _acts = set()\n",
    "    for i in range(1000):\n",
    "        act = policy(0)\n",
    "        _acts.add(act)\n",
    "        assert env.action_space.contains(act), \"Out of the bound!\"\n",
    "    if len(_acts) != 1:\n",
    "        print(\n",
    "            \"[HINT] Though we call self.policy 'random policy', \"\n",
    "            \"we find that generating action randomly at the beginning \"\n",
    "            \"and then fixing it during updating values period lead to better \"\n",
    "            \"performance. Using a stochastic policy is not even work! \"\n",
    "        )"
   ]
  },
  {
   "cell_type": "markdown",
   "metadata": {},
   "source": [
    "### Section 1.1: Make the environment\n",
    "\n",
    "You need to know \n",
    "\n",
    "1. How to make an environment\n",
    "2. How to set the random seed of environment\n",
    "3. What is observation space and action space"
   ]
  },
  {
   "cell_type": "code",
   "execution_count": 73,
   "metadata": {},
   "outputs": [
    {
     "name": "stdout",
     "output_type": "stream",
     "text": [
      "Current observation space: Discrete(64)\n",
      "Current action space: Discrete(4)\n",
      "0 in action space? True\n",
      "5 in action space? False\n"
     ]
    }
   ],
   "source": [
    "# Solve the TODOs and remove `pass`\n",
    "\n",
    "# # TODO: Just a reminder. Do you add your name and student \n",
    "# # ID in the table at top of the notebook?\n",
    "# pass\n",
    "\n",
    "# Create the environment\n",
    "env = gym.make('FrozenLake8x8-v1', render_mode=\"ansi\")\n",
    "\n",
    "# You need to reset the environment immediately after instantiating env. \n",
    "# env.reset(seed=0)  # TODO: uncomment this line\n",
    "\n",
    "print(\"Current observation space: {}\".format(env.observation_space))\n",
    "print(\"Current action space: {}\".format(env.action_space))\n",
    "print(\"0 in action space? {}\".format(env.action_space.contains(0)))\n",
    "print(\"5 in action space? {}\".format(env.action_space.contains(5)))\n"
   ]
  },
  {
   "cell_type": "code",
   "execution_count": 74,
   "metadata": {},
   "outputs": [
    {
     "data": {
      "image/png": "[encoded data removed]",
      "text/plain": [
       "<Figure size 640x480 with 1 Axes>"
      ]
     },
     "metadata": {},
     "output_type": "display_data"
    }
   ],
   "source": [
    "# Run this cell without modification to get a sense of the environment.\n",
    "tmp_env = gym.make('FrozenLake8x8-v1', render_mode=\"rgb_array\")\n",
    "tmp_env.reset()\n",
    "_ = plt.imshow(tmp_env.render())"
   ]
  },
  {
   "cell_type": "markdown",
   "metadata": {},
   "source": [
    "### Section 1.2: Play the environment with random actions\n",
    "\n",
    "You need to know \n",
    "\n",
    "1. How to step the environment;\n",
    "2. How to rollout a complete episode."
   ]
  },
  {
   "cell_type": "code",
   "execution_count": 75,
   "metadata": {
    "scrolled": true
   },
   "outputs": [
    {
     "name": "stdout",
     "output_type": "stream",
     "text": [
      "  (Down)\n",
      "SFFFFFFF\n",
      "FFFFFFFF\n",
      "FFF\u001b[41mH\u001b[0mFFFF\n",
      "FFFFFHFF\n",
      "FFFHFFFF\n",
      "FHHFFFHF\n",
      "FHFFHFHF\n",
      "FFFHFFFG\n",
      "\n",
      "Current observation: 19\n",
      "Current reward: 0.0\n",
      "Whether we are done: True\n",
      "info: {'prob': 0.3333333333333333}\n"
     ]
    }
   ],
   "source": [
    "# Solve the TODOs and remove `pass`\n",
    "\n",
    "# Run 1000 steps for test, terminate if done.\n",
    "# You can run this cell multiples times.\n",
    "env.reset(seed=0)\n",
    "\n",
    "while True:\n",
    "    # Take random action\n",
    "    # TODO: Uncomment next two lines\n",
    "    observation, reward, terminated, truncated, info = env.step(env.action_space.sample())\n",
    "    done = terminated or truncated\n",
    "    \n",
    "    # Render the environment.\n",
    "    # You will see the visualization of the behaviors of the agent\n",
    "    # if you are using local machine to run this notebook.\n",
    "    print(env.render())\n",
    "\n",
    "    print(\"Current observation: {}\\nCurrent reward: {}\\n\"\n",
    "          \"Whether we are done: {}\\ninfo: {}\".format(\n",
    "        observation, reward, done, info\n",
    "    ))\n",
    "\n",
    "    wait(sleep=0.1)\n",
    "\n",
    "    # TODO: Terminate the loop if done\n",
    "    if done:\n",
    "        break\n"
   ]
  },
  {
   "cell_type": "markdown",
   "metadata": {},
   "source": [
    "### Section 1.3: Define the evaluation function to value the random baseline\n",
    "\n",
    "Now we need to define an evaluation function to evaluate a given policy.\n",
    "\n",
    "As a reminder, you should create a `FrozenLake8x8-v1` environment instance by default, reset it after each episode (and at the beginning), step the environment, and terminate the episode if done. According to Gym v26 update, \n",
    "\n",
    "After implementing the `evaluate` function, run the next cell to check whether the function is working."
   ]
  },
  {
   "cell_type": "code",
   "execution_count": 76,
   "metadata": {},
   "outputs": [],
   "source": [
    "# Solve the TODOs and remove `pass`\n",
    "\n",
    "def _render_helper(env):\n",
    "    print(env.render())\n",
    "    wait(sleep=0.05)\n",
    "\n",
    "\n",
    "def evaluate(\n",
    "    policy: Callable,\n",
    "    num_episodes: int,\n",
    "    seed: int = 0,\n",
    "    env_name: str = 'FrozenLake8x8-v1',\n",
    "    render: bool = False,\n",
    "    render_mode: str = 'ansi',\n",
    ") -> float:\n",
    "    \"\"\"This function evaluates the given policy and returns the \n",
    "    average episodic return across #num_episodes episodes.\n",
    "    We use `seed` argument for testing purpose.\n",
    "    You should pass the tests in the next cell.\n",
    "\n",
    "    :param policy: a function whose input is an integer (observation)\n",
    "    :param num_episodes: number of episodes you wish to run\n",
    "    :param seed: an integer, used for testing.\n",
    "    :param env_name: the name of the environment\n",
    "    :param render: a boolean flag. If true, please call _render_helper\n",
    "    function.\n",
    "    :param render_mode: a string specifies the render mode if render=True.\n",
    "    :return: the averaged episode reward of the given policy.\n",
    "    \"\"\"\n",
    "\n",
    "    # Create environment (according to env_name, we will use env other than 'FrozenLake8x8-v1')\n",
    "    env = gym.make(env_name, render_mode=render_mode if render else None)\n",
    "\n",
    "    # Build inner loop to run.\n",
    "    # For each episode, do not set the limit.\n",
    "    # Only terminate episode (reset environment) when done = True.\n",
    "    # The episode reward is the sum of all rewards happen within one episode.\n",
    "    # Call the helper function `render(env)` to render\n",
    "    rewards = []\n",
    "    for i in range(num_episodes):\n",
    "        # reset the environment\n",
    "        obs, info = env.reset(seed=seed + i)\n",
    "        action = policy(obs)\n",
    "\n",
    "        ep_reward = 0\n",
    "        while True:\n",
    "            # TODO: run the environment and terminate it if done, collect the\n",
    "            # reward at each step and sum them to the episode reward.\n",
    "            \n",
    "            obs, reward, terminated, truncated, info = env.step(action)  \n",
    "            done = terminated or truncated\n",
    "            \n",
    "            action = policy(obs)\n",
    "            ep_reward += reward\n",
    "            if render:\n",
    "                _render_helper(env)\n",
    "            if done:\n",
    "                break\n",
    "\n",
    "        rewards.append(ep_reward)\n",
    "\n",
    "    return float(np.mean(rewards))\n",
    "\n",
    "# TODO: Run next cell to test your implementation!"
   ]
  },
  {
   "cell_type": "code",
   "execution_count": 77,
   "metadata": {},
   "outputs": [
    {
     "name": "stdout",
     "output_type": "stream",
     "text": [
      "Test Passed!\n",
      "\n",
      "As a baseline, the mean episode reward of a hand-craft agent is:  0.046\n"
     ]
    }
   ],
   "source": [
    "# Run this cell without modification\n",
    "\n",
    "# Run this cell to test the correctness of your implementation of `evaluate`.\n",
    "LEFT = 0\n",
    "DOWN = 1\n",
    "RIGHT = 2\n",
    "UP = 3\n",
    "\n",
    "\n",
    "def expert(obs):\n",
    "    \"\"\"Go down if agent at the right edge, otherwise go right.\"\"\"\n",
    "    return DOWN if (obs + 1) % 8 == 0 else RIGHT\n",
    "\n",
    "\n",
    "def assert_equal(seed, value, env_name):\n",
    "    ret = evaluate(expert, 1000, seed, env_name=env_name)\n",
    "    assert ret == value, \\\n",
    "        \"When evaluate on seed {}~{} in {} environment, the \" \\\n",
    "        \"averaged reward should be {}. But you get {}.\" \\\n",
    "        \"\".format(seed, seed + 1000, env_name, value, ret)\n",
    "\n",
    "\n",
    "assert_equal(0, 0.046, 'FrozenLake8x8-v1')\n",
    "assert_equal(1000, 0.047, 'FrozenLake8x8-v1')\n",
    "assert_equal(2000, 0.065, 'FrozenLake8x8-v1')\n",
    "\n",
    "assert_equal(0, 0.024, 'FrozenLake-v1')\n",
    "assert_equal(1000, 0.034, 'FrozenLake-v1')\n",
    "assert_equal(2000, 0.035, 'FrozenLake-v1')\n",
    "\n",
    "print(\"Test Passed!\")\n",
    "print(\"\\nAs a baseline, the mean episode reward of a hand-craft \"\n",
    "      \"agent is: \", evaluate(expert, 1000))"
   ]
  },
  {
   "cell_type": "markdown",
   "metadata": {},
   "source": [
    "Congratulation! You have finished section 1 (if and only if not error happens above)."
   ]
  },
  {
   "cell_type": "markdown",
   "metadata": {},
   "source": [
    "------\n",
    "\n",
    "## Section 2: Model-based Tabular RL\n",
    "\n",
    "(65/100 points)\n",
    "\n",
    "We have learned how to use the Gym environment to run an episode, as well as how to interact between the agent (policy) and environment via `env.step(action)` to collect observation, reward, done, and possible extra information.\n",
    "\n",
    "Now we need to build the basic tabular RL algorithm to solve this environment. **Note that compared to the model-free methods in the Sec.3, the algorithms in this section needs to access the internal information of the environment, namely the transition dynamics**. \n",
    "\n",
    "In our case, given a state and an action, we need to know which state current environment will jump to, the probability of this transition, and the reward of the transition. You will find that we provide you a helper function `self._get_transitions(state, action)` that takes state and action as input and return you a list of possible transitions.\n",
    "\n",
    "First, we will implement an abstract class to represent a Trainer. Though this seems to be over-complex for tabular RL, we will use the same framework in the future assignments. So it would be helpful for you to get familiar with how to implement an RL algorithm in the class-oriented programming style."
   ]
  },
  {
   "cell_type": "code",
   "execution_count": 78,
   "metadata": {},
   "outputs": [],
   "source": [
    "# Run this cell without modification\n",
    "\n",
    "class TabularRLTrainerAbstract:\n",
    "    \"\"\"This is an abstract class for tabular RL trainer. We will subclass this class\n",
    "     to implement specific algorithm, so that we can reuse the codes like\n",
    "    getting the dynamic of the environment (self._get_transitions()) or rendering the\n",
    "    learned policy (self.render()).\"\"\"\n",
    "\n",
    "    def __init__(self, env_name='FrozenLake8x8-v1', model_based=True):\n",
    "        self.env_name = env_name\n",
    "        self.env = gym.make(self.env_name)\n",
    "        self.action_dim = self.env.action_space.n\n",
    "        self.obs_dim = self.env.observation_space.n\n",
    "\n",
    "        self.model_based = model_based\n",
    "\n",
    "        # Define the policy as function that returns the selected action given a state.\n",
    "        self.policy = None\n",
    "\n",
    "        # Define the value table as a numpy array.\n",
    "        self.value_table = None\n",
    "\n",
    "    def _get_transitions(self, state: int, act: int) -> List:\n",
    "        \"\"\"Query the environment to get the transition probability,\n",
    "        reward, the next state, and done given a pair of state and action.\n",
    "        We implement this function for you. But you need to know the \n",
    "        return format of this function.\n",
    "        \"\"\"\n",
    "        self._check_env_name()\n",
    "        assert self.model_based, \"You should not use _get_transitions in \" \\\n",
    "                                 \"model-free algorithm!\"\n",
    "\n",
    "\n",
    "        transitions = self.env.unwrapped.P[state][act]\n",
    "\n",
    "        ret = []\n",
    "        for prob, next_state, reward, done in transitions:\n",
    "            ret.append({\n",
    "                \"prob\": prob,\n",
    "                \"next_state\": next_state,\n",
    "                \"reward\": reward,\n",
    "                \"done\": done\n",
    "            })\n",
    "        return ret\n",
    "\n",
    "    def _check_env_name(self):\n",
    "        assert self.env_name.startswith('FrozenLake')\n",
    "\n",
    "    def print_table(self):\n",
    "        \"\"\"print beautiful table, only work for FrozenLake8X8-v1 env. We \n",
    "        write this function for you.\"\"\"\n",
    "        self._check_env_name()\n",
    "        print_table(self.value_table)\n",
    "\n",
    "    def train(self):\n",
    "        \"\"\"Conduct one iteration of learning.\"\"\"\n",
    "        raise NotImplementedError(\"You need to override the \"\n",
    "                                  \"Trainer.train() function.\")\n",
    "\n",
    "    def evaluate(self, seed=1000):\n",
    "        \"\"\"Use the function you write to evaluate current policy.\n",
    "        Return the mean episode reward of 1000 episodes when seed=0.\"\"\"\n",
    "        result = evaluate(self.policy, seed=seed, num_episodes=1000, env_name=self.env_name)\n",
    "        return result\n",
    "\n",
    "    def render(self, seed=1000):\n",
    "        \"\"\"Reuse your evaluate function, render current policy \n",
    "        for one episode when seed=0\"\"\"\n",
    "        evaluate(self.policy, seed=seed, num_episodes=1, render=True, env_name=self.env_name)"
   ]
  },
  {
   "cell_type": "code",
   "execution_count": 79,
   "metadata": {},
   "outputs": [
    {
     "name": "stdout",
     "output_type": "stream",
     "text": [
      "The return transitions is a <class 'list'>.\n",
      "\n",
      "[{'prob': 0.3333333333333333, 'next_state': 0, 'reward': 0.0, 'done': False}, {'prob': 0.3333333333333333, 'next_state': 0, 'reward': 0.0, 'done': False}, {'prob': 0.3333333333333333, 'next_state': 8, 'reward': 0.0, 'done': False}]\n"
     ]
    }
   ],
   "source": [
    "# Run this cell without modification\n",
    "\n",
    "# Run trainer._get_transitions and give you a sense of how it works.\n",
    "test_trainer = TabularRLTrainerAbstract()\n",
    "transitions = test_trainer._get_transitions(state=0, act=0)\n",
    "print(f\"The return transitions is a {type(transitions)}.\\n\\n{transitions}\")"
   ]
  },
  {
   "cell_type": "markdown",
   "metadata": {},
   "source": [
    "### Section 2.1: Policy Iteration\n",
    "\n",
    "Recall the process of policy iteration: \n",
    "\n",
    "1. Update the state value function, given all possible transitions at current state of the environment.\n",
    "2. Find the best policy that earns the highest value under current state value function.\n",
    "3. If the best policy is identical to the previous one then stop the training. Otherwise, return to step 1.\n",
    "\n",
    "In step 1, update the state value function by\n",
    "\n",
    "$v_{k+1} = E_{s'}[r(s, a)+\\gamma v_{k}(s')]$\n",
    "\n",
    "wherein the $a$ is given by current policy, $s'$ is next state, $r$ is the reward, $v_{k}(s')$ is the next state value given by the old (not updated yet) value function.\n",
    "The expectation is computed among all possible transitions given a state and action pair (As the environment is not deterministic, it's possible to transit to different next states even given the same state-action pair).\n",
    "Note that the new value $v_{k+1}$ should be temporarily stored at some places, instead of\n",
    "\n",
    "In step 2, the best policy is the one that takes the action with maximal expected return given a state:\n",
    "\n",
    "$a = {argmax}_a E_{s'}[r(s, a) + \\gamma v_{k}(s')]$\n",
    "\n",
    "Policy iteration algorithm has an outer loop (update policy, step 1 to 3) and an inner loop (fit the value function, within step 1). \n",
    "\n",
    "In each outer loop, we call once `trainer.train()`, where we call `trainer.update_value_function()` once to update the value function (the state value table). \n",
    "\n",
    "After that we call `trainer.update_policy()` to update the current policy. \n",
    "\n",
    "`trainer` object has a `trainer.policy` attribute, which is a function that takes observation as input and returns an action.\n",
    "\n",
    "You should implement the trainer following the framework we already wrote for you. Please carefully go through the codes and finish all `TODO` in it."
   ]
  },
  {
   "cell_type": "code",
   "execution_count": 80,
   "metadata": {},
   "outputs": [],
   "source": [
    "# Solve the TODOs and remove `pass`\n",
    "\n",
    "class PolicyIterationTrainer(TabularRLTrainerAbstract):\n",
    "    def __init__(self, gamma=1.0, eps=1e-10, env_name='FrozenLake8x8-v1'):\n",
    "        super(PolicyIterationTrainer, self).__init__(env_name)\n",
    "\n",
    "        # Discount factor\n",
    "        self.gamma = gamma\n",
    "\n",
    "        # Value function convergence criterion\n",
    "        self.eps = eps\n",
    "\n",
    "        # The **value table** for each possible observation\n",
    "        self.value_table: np.ndarray = np.zeros((self.obs_dim,))\n",
    "\n",
    "        # TODO: you need to implement a uniform random policy at the beginning.\n",
    "        # self.policy is a python function that takes an integer (the observation)\n",
    "        # as input and return an integer (action).\n",
    "        # You can use self.action_dim to get the dimension (range)\n",
    "        # of the action. An action is an integer in range\n",
    "        # [0, ..., self.action_dim - 1]\n",
    "        # Note: policy should be a deterministic function. That is, given a state,\n",
    "        # it should also return the same action.\n",
    "        # self.policy: Callable = None\n",
    "        # pass\n",
    "        random_policy_array = np.random.choice(self.action_dim, size=self.obs_dim)\n",
    "        self.policy: Callable = lambda observation: random_policy_array[observation]\n",
    "        # test your random policy\n",
    "        test_random_policy(self.policy, self.env)\n",
    "\n",
    "    def train(self):\n",
    "        \"\"\"Conduct one iteration of learning.\"\"\"\n",
    "        # TODO: self.value_table may be need to be reset to zeros.\n",
    "        # If you think it should, than do it. If not, then go ahead.\n",
    "        # pass\n",
    "\n",
    "        self.update_value_function()\n",
    "        self.update_policy()\n",
    "\n",
    "    def update_value_function(self):\n",
    "        count = 0  # count the steps of value updates\n",
    "        while True:\n",
    "            old_table = self.value_table.copy()\n",
    "\n",
    "            for state in range(self.obs_dim):\n",
    "                action = self.policy(state)\n",
    "                transition_list = self._get_transitions(state, action)\n",
    "\n",
    "                state_value = 0\n",
    "                # Iterate over all possible next states given a state-action pair.\n",
    "                for transition in transition_list:\n",
    "                    prob = transition['prob']\n",
    "                    reward = transition['reward']\n",
    "                    next_state = transition['next_state']\n",
    "                    done = transition['done']\n",
    "\n",
    "                    # TODO: compute state_value\n",
    "                    # hint: you should use reward, self.gamma, old_table, prob,\n",
    "                    # and next_state to compute the state value\n",
    "                    \n",
    "                    state_action_value = prob * (reward + self.gamma * old_table[next_state] * (not done))\n",
    "                    state_value += state_action_value\n",
    "                \n",
    "\n",
    "                # update the state value\n",
    "                self.value_table[state] = state_value\n",
    "\n",
    "            # TODO: Compare the old_table and current table to\n",
    "            #  decide whether to break the value update process.\n",
    "            # hint: you should use self.eps, old_table and self.value_table\n",
    "            should_break: bool = np.sum(np.abs(old_table - self.value_table)) < self.eps\n",
    "      \n",
    "\n",
    "            if should_break:\n",
    "                print(\"[DEBUG]\\tThe value table was updated for {} steps. \"\n",
    "                      \"Difference between new and old table is: {:.4f}\".format(\n",
    "                    count, np.sum(np.abs(old_table - self.value_table))\n",
    "                ))\n",
    "                break\n",
    "            count += 1\n",
    "            if count > 6000:\n",
    "                raise ValueError(\"Clearly your code has problem. Check it!\")\n",
    "\n",
    "    def update_policy(self):\n",
    "        \"\"\"You need to define a new policy function, given current\n",
    "        value function. The best action for a given state is the one that\n",
    "        has the highest expected return.\n",
    "\n",
    "        To optimize computing efficiency, we introduce a policy table,\n",
    "        which is a numpy array taking state as index and return the action given a state.\n",
    "        \"\"\"\n",
    "        policy_table: np.ndarray = np.zeros([self.obs_dim, ], dtype=int)\n",
    "\n",
    "        for state in range(self.obs_dim):\n",
    "            state_action_values = [0] * self.action_dim\n",
    "\n",
    "            # TODO: assign the action with greatest state-action value\n",
    "            # to policy_table[state].\n",
    "            # Hint:\n",
    "            #  You should use the value table, gamma, reward, as well as \n",
    "            #  the return from self._get_transitions() to compute the\n",
    "            #  state-action value first before getting the action.\n",
    "            #  Bellman equation may help.\n",
    "\n",
    "            for action in range(self.action_dim):\n",
    "                transition_list = self._get_transitions(state, action)\n",
    "            \n",
    "                for transition in transition_list:\n",
    "                    prob = transition['prob']\n",
    "                    reward = transition['reward']\n",
    "                    next_state = transition['next_state']\n",
    "                    done = transition['done']\n",
    "                \n",
    "                # 计算state-action值\n",
    "                    state_action_value = prob * (reward + self.gamma * self.value_table[next_state] * (1 - done))\n",
    "                    state_action_values[action] += state_action_value\n",
    "\n",
    "            best_action = np.argmax(state_action_values)\n",
    "            policy_table[state] = best_action\n",
    "\n",
    "        self.policy = lambda obs: policy_table[obs]\n"
   ]
  },
  {
   "cell_type": "markdown",
   "metadata": {},
   "source": [
    "Now we have built the Trainer class for policy iteration algorithm. In the following few cells, we will train the agent to solve the problem and evaluate its performance."
   ]
  },
  {
   "cell_type": "code",
   "execution_count": 81,
   "metadata": {},
   "outputs": [],
   "source": [
    "# Solve the TODOs and remove `pass`\n",
    "\n",
    "# Managing configurations of your experiments is important for your research.\n",
    "default_pi_config = dict(\n",
    "    max_iteration=1000,\n",
    "    evaluate_interval=1,\n",
    "    gamma=1.0,\n",
    "    eps=1e-10\n",
    ")\n",
    "\n",
    "\n",
    "def policy_iteration(train_config=None):\n",
    "    \n",
    "    # Prepare a config dict\n",
    "    config = default_pi_config.copy()\n",
    "    if train_config is not None:\n",
    "        config.update(train_config)\n",
    "\n",
    "    # Initialize the trainer\n",
    "    trainer = PolicyIterationTrainer(gamma=config['gamma'], eps=config['eps'])\n",
    "\n",
    "    # Initialize an array as the policy mapping obs to action.\n",
    "    old_policy = np.zeros(trainer.obs_dim, dtype=int)\n",
    "    old_policy.fill(-1)\n",
    "\n",
    "    for i in range(config['max_iteration']):\n",
    "\n",
    "        # train the agent\n",
    "        trainer.train()\n",
    "\n",
    "        # TODO: compare the new policy with old policy to check whether\n",
    "        #  we should stop. If new and old policy have same output given any\n",
    "        #  observation, then we consider the algorithm is converged and\n",
    "        #  should be stopped.\n",
    "        # should_stop: bool = False\n",
    "        # pass\n",
    "         # Generate the new policy after training\n",
    "        new_policy = np.array([trainer.policy(obs) for obs in range(trainer.obs_dim)])\n",
    "\n",
    "        should_stop = np.allclose(old_policy, new_policy, atol=config['eps'])\n",
    "        \n",
    "        if should_stop:\n",
    "            print(\"We found policy is not changed anymore at \"\n",
    "                  \"iteration {}. Current mean episode reward \"\n",
    "                  \"is {}. Stop training.\".format(i, trainer.evaluate()))\n",
    "            break\n",
    "        old_policy = new_policy\n",
    "\n",
    "        # evaluate the result\n",
    "        if i % config['evaluate_interval'] == 0:\n",
    "            print(\n",
    "                \"[INFO]\\tAfter {} iterations, current policy has mean episode reward {}.\"\n",
    "                \"\".format(i, trainer.evaluate()))\n",
    "\n",
    "            if i > 20:\n",
    "                print(\"You sure your codes is OK? It shouldn't take so many \"\n",
    "                      \"({}) iterations to train a policy iteration \"\n",
    "                      \"agent.\".format(i))\n",
    "\n",
    "    assert trainer.evaluate() > 0.8, \\\n",
    "        \"We expect to get the mean episode reward greater than 0.8. \" \\\n",
    "        \"But you get: {}. Please check your codes.\".format(trainer.evaluate())\n",
    "\n",
    "    return trainer\n"
   ]
  },
  {
   "cell_type": "code",
   "execution_count": 82,
   "metadata": {},
   "outputs": [
    {
     "name": "stdout",
     "output_type": "stream",
     "text": [
      "[DEBUG]\tThe value table was updated for 312 steps. Difference between new and old table is: 0.0000\n",
      "[INFO]\tAfter 0 iterations, current policy has mean episode reward 0.589.\n",
      "[DEBUG]\tThe value table was updated for 803 steps. Difference between new and old table is: 0.0000\n",
      "[INFO]\tAfter 1 iterations, current policy has mean episode reward 0.819.\n",
      "[DEBUG]\tThe value table was updated for 1521 steps. Difference between new and old table is: 0.0000\n",
      "[INFO]\tAfter 2 iterations, current policy has mean episode reward 0.788.\n",
      "[DEBUG]\tThe value table was updated for 968 steps. Difference between new and old table is: 0.0000\n",
      "[INFO]\tAfter 3 iterations, current policy has mean episode reward 0.705.\n",
      "[DEBUG]\tThe value table was updated for 1199 steps. Difference between new and old table is: 0.0000\n",
      "[INFO]\tAfter 4 iterations, current policy has mean episode reward 0.884.\n",
      "[DEBUG]\tThe value table was updated for 89 steps. Difference between new and old table is: 0.0000\n",
      "[INFO]\tAfter 5 iterations, current policy has mean episode reward 0.882.\n",
      "[DEBUG]\tThe value table was updated for 0 steps. Difference between new and old table is: 0.0000\n",
      "We found policy is not changed anymore at iteration 6. Current mean episode reward is 0.882. Stop training.\n"
     ]
    }
   ],
   "source": [
    "# Run this cell without modification\n",
    "\n",
    "# It may be confusing to call a trainer agent. But that's what we normally do.\n",
    "pi_agent = policy_iteration()"
   ]
  },
  {
   "cell_type": "code",
   "execution_count": 83,
   "metadata": {},
   "outputs": [
    {
     "name": "stdout",
     "output_type": "stream",
     "text": [
      "Your policy iteration agent achieve 0.882 mean episode reward. The optimal score should be > 0.8.\n"
     ]
    }
   ],
   "source": [
    "# Run this cell without modification\n",
    "\n",
    "print(\"Your policy iteration agent achieve {} mean episode reward. The optimal score \"\n",
    "      \"should be > 0.8.\".format(pi_agent.evaluate()))"
   ]
  },
  {
   "cell_type": "code",
   "execution_count": 84,
   "metadata": {},
   "outputs": [
    {
     "name": "stdout",
     "output_type": "stream",
     "text": [
      "  (Right)\n",
      "SFFFFFFF\n",
      "FFFFFFFF\n",
      "FFFHFFFF\n",
      "FFFFFHFF\n",
      "FFFHFFFF\n",
      "FHHFFFHF\n",
      "FHFFHFHF\n",
      "FFFHFFF\u001b[41mG\u001b[0m\n",
      "\n"
     ]
    }
   ],
   "source": [
    "# Run this cell without modification\n",
    "\n",
    "pi_agent.render()"
   ]
  },
  {
   "cell_type": "code",
   "execution_count": 85,
   "metadata": {},
   "outputs": [
    {
     "name": "stdout",
     "output_type": "stream",
     "text": [
      "+-----+-----+-----State Value Mapping-----+-----+-----+\n",
      "|     |   0 |   1 |   2 |   3 |   4 |   5 |   6 |   7 |\n",
      "|-----+-----+-----+-----+-----+-----+-----+-----+-----|\n",
      "| 0   |1.000|1.000|1.000|1.000|1.000|1.000|1.000|1.000|\n",
      "|     |     |     |     |     |     |     |     |     |\n",
      "+-----+-----+-----+-----+-----+-----+-----+-----+-----+\n",
      "| 1   |1.000|1.000|1.000|1.000|1.000|1.000|1.000|1.000|\n",
      "|     |     |     |     |     |     |     |     |     |\n",
      "+-----+-----+-----+-----+-----+-----+-----+-----+-----+\n",
      "| 2   |1.000|0.978|0.926|0.000|0.857|0.946|0.982|1.000|\n",
      "|     |     |     |     |     |     |     |     |     |\n",
      "+-----+-----+-----+-----+-----+-----+-----+-----+-----+\n",
      "| 3   |1.000|0.935|0.801|0.475|0.624|0.000|0.945|1.000|\n",
      "|     |     |     |     |     |     |     |     |     |\n",
      "+-----+-----+-----+-----+-----+-----+-----+-----+-----+\n",
      "| 4   |1.000|0.826|0.542|0.000|0.539|0.611|0.852|1.000|\n",
      "|     |     |     |     |     |     |     |     |     |\n",
      "+-----+-----+-----+-----+-----+-----+-----+-----+-----+\n",
      "| 5   |1.000|0.000|0.000|0.168|0.383|0.442|0.000|1.000|\n",
      "|     |     |     |     |     |     |     |     |     |\n",
      "+-----+-----+-----+-----+-----+-----+-----+-----+-----+\n",
      "| 6   |1.000|0.000|0.195|0.121|0.000|0.332|0.000|1.000|\n",
      "|     |     |     |     |     |     |     |     |     |\n",
      "+-----+-----+-----+-----+-----+-----+-----+-----+-----+\n",
      "| 7   |1.000|0.732|0.463|0.000|0.277|0.555|0.777|0.000|\n",
      "|     |     |     |     |     |     |     |     |     |\n",
      "+-----+-----+-----+-----+-----+-----+-----+-----+-----+\n",
      "\n"
     ]
    }
   ],
   "source": [
    "# Run this cell without modification\n",
    "\n",
    "pi_agent.print_table()"
   ]
  },
  {
   "cell_type": "markdown",
   "metadata": {},
   "source": [
    "Congratulations! You have successfully implemented the policy iteration trainer (if and only if no error happens at the above cells). \n",
    "\n",
    "Here are few further problems for you to investigate:\n",
    "\n",
    "1. What is the impact of the discount factor gamma?\n",
    "2. What is the impact of the value function convergence criterion epsilon?\n",
    "\n",
    "If you are interested in doing more investigation (not limited to these two), feel free to open new cells at the end of this notebook and left a clear trace of your thinking and coding, which leads to extra credit if you do a good job. It's an optional job, and you can ignore it.\n",
    "\n",
    "Now let's continue our journey!"
   ]
  },
  {
   "cell_type": "markdown",
   "metadata": {},
   "source": [
    "### Section 2.2: Value Iteration\n",
    "\n",
    "Recall the idea of value iteration. We update the state value: \n",
    "\n",
    "$$v_{k+1}(s) = \\max_a E_{s'} [r(s, a) + \\gamma v_{k}(s')]$$\n",
    "\n",
    "wherein the $s'$ is next state, $r$ is the reward, $v_{k}(s')$ is the next state value given by the old (not updated yet) value function. The expectation is computed among all possible transitions (given a state and action pair, it is possible to have many next states, since the environment is not deterministic).\n",
    "\n",
    "The value iteration algorithm does not require an inner loop. It computes the expected return of all possible actions at a given state and uses the maximum of them as the state value. You can imagine it \"pretends\" we already have the optimal policy and run policy iteration based on it. Therefore, we do not need to maintain a policy object in a trainer. We only need to retrieve the optimal policy using the same rule as policy iteration, given current value function.\n",
    "\n",
    "You should implement the trainer following the framework we already wrote for you. Please carefully go through the code and finish all `TODO` in it."
   ]
  },
  {
   "cell_type": "code",
   "execution_count": 86,
   "metadata": {},
   "outputs": [],
   "source": [
    "# Solve the TODOs and remove `pass`\n",
    "\n",
    "\n",
    "class ValueIterationTrainer(PolicyIterationTrainer):\n",
    "    \"\"\"Note that we inherit Policy Iteration Trainer, to reuse the\n",
    "    code of update_policy(). It's same since it get optimal policy from\n",
    "    current state-value table (self.table).\n",
    "    \"\"\"\n",
    "\n",
    "    def __init__(self, gamma=1.0, env_name='FrozenLake8x8-v1'):\n",
    "        super(ValueIterationTrainer, self).__init__(gamma, None, env_name)\n",
    "\n",
    "    def train(self):\n",
    "        \"\"\"Conduct one iteration of learning.\"\"\"\n",
    "        # TODO: self.value_table may be need to be reset to zeros.\n",
    "        # If you think it should, than do it. If not, then move on.\n",
    "\n",
    "        # In value iteration, we do not explicit require a\n",
    "        # policy instance to run. We update value function\n",
    "        # directly based on the transitions. Therefore, we\n",
    "        # don't need to run self.update_policy() in each step.\n",
    "        self.update_value_function()\n",
    "\n",
    "    def update_value_function(self):\n",
    "        old_table = self.value_table.copy()\n",
    "\n",
    "        for state in range(self.obs_dim):\n",
    "            state_values_for_actions = []\n",
    "\n",
    "            for action in range(self.action_dim):\n",
    "                transition_list = self._get_transitions(state, action)\n",
    "                state_action_value = 0\n",
    "                \n",
    "                for transition in transition_list:\n",
    "                    prob = transition['prob']\n",
    "                    reward = transition['reward']\n",
    "                    next_state = transition['next_state']\n",
    "                    done = transition['done']\n",
    "\n",
    "                    state_action_value += prob * (reward + self.gamma * old_table[next_state] * (not done))\n",
    "                \n",
    "                state_values_for_actions.append(state_action_value)\n",
    "\n",
    "            self.value_table[state] = max(state_values_for_actions)\n",
    "\n",
    "        # for state in range(self.obs_dim):\n",
    "        #     state_value = 0\n",
    "\n",
    "        #     # TODO: Compute the new state value.\n",
    "        #     # Hint: try to compute the state-action value first\n",
    "            \n",
    "\n",
    "        #     self.value_table[state] = state_value\n",
    "\n",
    "        # Till now the one-step value update is finished.\n",
    "        # You can see that we do not use an inner loop to update\n",
    "        # the value function like what we did in the policy iteration.\n",
    "        # This is because to compute the state value, which is\n",
    "        # an expectation among all possible action given by a\n",
    "        # specified policy, we **pretend** we already have the optimal\n",
    "        # policy (the max operation). Therefore we don't need to \n",
    "        # compute the state-action values for those actions that will not\n",
    "        # be selected by the policy.\n",
    "\n",
    "    def evaluate(self):\n",
    "        \"\"\"Since in value iteration we do not maintain a policy function,\n",
    "        so we need to retrieve it when we need it.\"\"\"\n",
    "        self.update_policy()\n",
    "        return super().evaluate()\n",
    "\n",
    "    def render(self):\n",
    "        \"\"\"Since in value iteration we do not maintain a policy function,\n",
    "        so we need to retrieve it when we need it.\"\"\"\n",
    "        self.update_policy()\n",
    "        return super().render()\n"
   ]
  },
  {
   "cell_type": "code",
   "execution_count": 87,
   "metadata": {},
   "outputs": [],
   "source": [
    "# Solve the TODOs and remove `pass`\n",
    "\n",
    "# Managing configurations of your experiments is important for your research.\n",
    "default_vi_config = dict(\n",
    "    max_iteration=10000,\n",
    "    evaluate_interval=100,  # don't need to update policy each iteration\n",
    "    gamma=1.0,\n",
    "    eps=1e-10\n",
    ")\n",
    "\n",
    "\n",
    "def value_iteration(train_config=None):\n",
    "    config = default_vi_config.copy()\n",
    "    if train_config is not None:\n",
    "        config.update(train_config)\n",
    "\n",
    "    # TODO: initialize Value Iteration Trainer. Remember to pass\n",
    "    #  config['gamma'] to it.\n",
    "    trainer = ValueIterationTrainer(gamma=config['gamma'])\n",
    "    old_policy = np.array([trainer.policy(obs) for obs in range(trainer.obs_dim)])\n",
    "    # pass\n",
    "\n",
    "    old_state_value_table = trainer.value_table.copy()\n",
    "\n",
    "    for i in range(config['max_iteration']):\n",
    "        # train the agent\n",
    "        trainer.train()\n",
    "\n",
    "        # evaluate the result\n",
    "        if i % config['evaluate_interval'] == 0:\n",
    "            print(\"[INFO]\\tIn {} iteration, current \"\n",
    "                  \"mean episode reward is {}.\".format(\n",
    "                i, trainer.evaluate()\n",
    "            ))\n",
    "\n",
    "            # TODO: Compare the new policy with old policy to check should\n",
    "            #  we stop.\n",
    "            # Hint: If new and old policy have same output given any\n",
    "            #  observation, them we consider the algorithm is converged and\n",
    "            #  should be stopped.\n",
    "            \n",
    "            new_policy = np.array([trainer.policy(obs) for obs in range(trainer.obs_dim)])\n",
    "            should_stop = np.allclose(old_policy, new_policy, atol=config['eps'])\n",
    "            # print (old_policy)\n",
    "            # print (new_policy)\n",
    "            old_policy = new_policy.copy()  # 更新旧策略\n",
    "            # print (old_policy)\n",
    "\n",
    "            if should_stop:\n",
    "                print(\"We found policy is not changed anymore at \"\n",
    "                      \"iteration {}. Current mean episode reward \"\n",
    "                      \"is {}. Stop training.\".format(i, trainer.evaluate()))\n",
    "                break\n",
    "\n",
    "            if i > 3000:\n",
    "                print(\"You sure your codes is OK? It shouldn't take so many \"\n",
    "                      \"({}) iterations to train a policy iteration \"\n",
    "                      \"agent.\".format(\n",
    "                    i))\n",
    "\n",
    "    assert trainer.evaluate() > 0.8, \\\n",
    "        \"We expect to get the mean episode reward greater than 0.8. \" \\\n",
    "        \"But you get: {}. Please check your codes.\".format(trainer.evaluate())\n",
    "\n",
    "    return trainer\n"
   ]
  },
  {
   "cell_type": "code",
   "execution_count": 88,
   "metadata": {},
   "outputs": [
    {
     "name": "stdout",
     "output_type": "stream",
     "text": [
      "[INFO]\tIn 0 iteration, current mean episode reward is 0.0.\n",
      "[INFO]\tIn 100 iteration, current mean episode reward is 0.89.\n",
      "[INFO]\tIn 200 iteration, current mean episode reward is 0.882.\n",
      "[INFO]\tIn 300 iteration, current mean episode reward is 0.882.\n",
      "[INFO]\tIn 400 iteration, current mean episode reward is 0.882.\n",
      "[INFO]\tIn 500 iteration, current mean episode reward is 0.882.\n",
      "We found policy is not changed anymore at iteration 500. Current mean episode reward is 0.882. Stop training.\n"
     ]
    }
   ],
   "source": [
    "# Run this cell without modification\n",
    "\n",
    "vi_agent = value_iteration()"
   ]
  },
  {
   "cell_type": "code",
   "execution_count": 89,
   "metadata": {},
   "outputs": [
    {
     "name": "stdout",
     "output_type": "stream",
     "text": [
      "Your value iteration agent achieve 0.882 mean episode reward. The optimal score should be > 0.8.\n"
     ]
    }
   ],
   "source": [
    "# Run this cell without modification\n",
    "\n",
    "print(\"Your value iteration agent achieve {} mean episode reward. The optimal score \"\n",
    "      \"should be > 0.8.\".format(vi_agent.evaluate()))"
   ]
  },
  {
   "cell_type": "code",
   "execution_count": 90,
   "metadata": {},
   "outputs": [
    {
     "name": "stdout",
     "output_type": "stream",
     "text": [
      "  (Right)\n",
      "SFFFFFFF\n",
      "FFFFFFFF\n",
      "FFFHFFFF\n",
      "FFFFFHFF\n",
      "FFFHFFFF\n",
      "FHHFFFHF\n",
      "FHFFHFHF\n",
      "FFFHFFF\u001b[41mG\u001b[0m\n",
      "\n"
     ]
    }
   ],
   "source": [
    "# Run this cell without modification\n",
    "\n",
    "vi_agent.render()"
   ]
  },
  {
   "cell_type": "code",
   "execution_count": 91,
   "metadata": {},
   "outputs": [
    {
     "name": "stdout",
     "output_type": "stream",
     "text": [
      "+-----+-----+-----State Value Mapping-----+-----+-----+\n",
      "|     |   0 |   1 |   2 |   3 |   4 |   5 |   6 |   7 |\n",
      "|-----+-----+-----+-----+-----+-----+-----+-----+-----|\n",
      "| 0   |0.999|0.999|0.999|0.999|0.999|0.999|0.999|0.999|\n",
      "|     |     |     |     |     |     |     |     |     |\n",
      "+-----+-----+-----+-----+-----+-----+-----+-----+-----+\n",
      "| 1   |0.999|0.999|0.999|0.999|0.999|0.999|0.999|0.999|\n",
      "|     |     |     |     |     |     |     |     |     |\n",
      "+-----+-----+-----+-----+-----+-----+-----+-----+-----+\n",
      "| 2   |0.998|0.976|0.925|0.000|0.856|0.945|0.981|0.999|\n",
      "|     |     |     |     |     |     |     |     |     |\n",
      "+-----+-----+-----+-----+-----+-----+-----+-----+-----+\n",
      "| 3   |0.997|0.932|0.799|0.474|0.623|0.000|0.944|1.000|\n",
      "|     |     |     |     |     |     |     |     |     |\n",
      "+-----+-----+-----+-----+-----+-----+-----+-----+-----+\n",
      "| 4   |0.997|0.823|0.541|0.000|0.539|0.611|0.851|1.000|\n",
      "|     |     |     |     |     |     |     |     |     |\n",
      "+-----+-----+-----+-----+-----+-----+-----+-----+-----+\n",
      "| 5   |0.996|0.000|0.000|0.168|0.383|0.442|0.000|1.000|\n",
      "|     |     |     |     |     |     |     |     |     |\n",
      "+-----+-----+-----+-----+-----+-----+-----+-----+-----+\n",
      "| 6   |0.996|0.000|0.194|0.121|0.000|0.332|0.000|1.000|\n",
      "|     |     |     |     |     |     |     |     |     |\n",
      "+-----+-----+-----+-----+-----+-----+-----+-----+-----+\n",
      "| 7   |0.996|0.728|0.461|0.000|0.277|0.555|0.777|0.000|\n",
      "|     |     |     |     |     |     |     |     |     |\n",
      "+-----+-----+-----+-----+-----+-----+-----+-----+-----+\n",
      "\n"
     ]
    }
   ],
   "source": [
    "# Run this cell without modification\n",
    "\n",
    "vi_agent.print_table()"
   ]
  },
  {
   "cell_type": "markdown",
   "metadata": {},
   "source": [
    "Congratulation! You have successfully implemented the value iteration trainer (if and only if no error happens at the above cells). Few further problems for you to investigate:\n",
    "\n",
    "1. Do you see that some iteration during training yields better rewards than the final one?  Why does that happen?\n",
    "2. What is the impact of the discount factor gamma?\n",
    "3. What is the impact of the value function convergence criterion epsilon?\n",
    "\n",
    "If you are interested in doing more investigation (not limited to these two), feel free to open new cells at the end of this notebook and left a clear trace of your thinking and coding, which leads to extra credit if you do a good job. It's an optional job, and you can ignore it.\n",
    "\n",
    "Now let's continue our journey!"
   ]
  },
  {
   "cell_type": "code",
   "execution_count": 92,
   "metadata": {},
   "outputs": [
    {
     "name": "stdout",
     "output_type": "stream",
     "text": [
      "[INFO]\tIn 0 iteration, current mean episode reward is 0.0.\n",
      "[INFO]\tIn 100 iteration, current mean episode reward is 0.825.\n",
      "[INFO]\tIn 200 iteration, current mean episode reward is 0.825.\n",
      "We found policy is not changed anymore at iteration 200. Current mean episode reward is 0.825. Stop training.\n"
     ]
    }
   ],
   "source": [
    "custom_config = {\n",
    "    'gamma': 0.975\n",
    "}\n",
    "\n",
    "trainer = value_iteration(train_config=custom_config)\n"
   ]
  },
  {
   "cell_type": "code",
   "execution_count": 93,
   "metadata": {},
   "outputs": [
    {
     "name": "stdout",
     "output_type": "stream",
     "text": [
      "[INFO]\tIn 0 iteration, current mean episode reward is 0.0.\n",
      "[INFO]\tIn 100 iteration, current mean episode reward is 0.86.\n",
      "[INFO]\tIn 200 iteration, current mean episode reward is 0.86.\n",
      "We found policy is not changed anymore at iteration 200. Current mean episode reward is 0.86. Stop training.\n"
     ]
    }
   ],
   "source": [
    "custom_config = {\n",
    "    'gamma': 0.98\n",
    "}\n",
    "\n",
    "trainer = value_iteration(train_config=custom_config)\n"
   ]
  },
  {
   "cell_type": "code",
   "execution_count": 94,
   "metadata": {},
   "outputs": [
    {
     "name": "stdout",
     "output_type": "stream",
     "text": [
      "[INFO]\tIn 0 iteration, current mean episode reward is 0.0.\n",
      "[INFO]\tIn 100 iteration, current mean episode reward is 0.86.\n",
      "[INFO]\tIn 200 iteration, current mean episode reward is 0.86.\n",
      "[INFO]\tIn 300 iteration, current mean episode reward is 0.86.\n",
      "We found policy is not changed anymore at iteration 300. Current mean episode reward is 0.86. Stop training.\n"
     ]
    }
   ],
   "source": [
    "custom_config = {\n",
    "    'gamma': 0.99\n",
    "}\n",
    "\n",
    "trainer = value_iteration(train_config=custom_config)\n"
   ]
  },
  {
   "cell_type": "code",
   "execution_count": 95,
   "metadata": {},
   "outputs": [
    {
     "name": "stdout",
     "output_type": "stream",
     "text": [
      "[INFO]\tIn 0 iteration, current mean episode reward is 0.0.\n",
      "[INFO]\tIn 100 iteration, current mean episode reward is 0.86.\n",
      "[INFO]\tIn 200 iteration, current mean episode reward is 0.89.\n",
      "[INFO]\tIn 300 iteration, current mean episode reward is 0.89.\n",
      "We found policy is not changed anymore at iteration 300. Current mean episode reward is 0.89. Stop training.\n"
     ]
    }
   ],
   "source": [
    "custom_config = {\n",
    "    'gamma': 0.995\n",
    "}\n",
    "\n",
    "trainer = value_iteration(train_config=custom_config)\n"
   ]
  },
  {
   "cell_type": "markdown",
   "metadata": {},
   "source": [
    "### Section 2.3: Compare two model-based agents\n",
    "\n",
    "Now we have two agents: `pi_agent` and `vi_agent`. They are believed to be the optimal policies in this environment. "
   ]
  },
  {
   "cell_type": "code",
   "execution_count": 96,
   "metadata": {},
   "outputs": [
    {
     "name": "stdout",
     "output_type": "stream",
     "text": [
      "[INFO]\tIn 0 iteration, current mean episode reward is 0.0.\n",
      "[INFO]\tIn 100 iteration, current mean episode reward is 0.893.\n",
      "[INFO]\tIn 200 iteration, current mean episode reward is 0.89.\n",
      "[INFO]\tIn 300 iteration, current mean episode reward is 0.89.\n",
      "[INFO]\tIn 400 iteration, current mean episode reward is 0.89.\n",
      "We found policy is not changed anymore at iteration 400. Current mean episode reward is 0.89. Stop training.\n"
     ]
    }
   ],
   "source": [
    "custom_config = {\n",
    "    'gamma': 0.998\n",
    "}\n",
    "\n",
    "trainer = value_iteration(train_config=custom_config)\n"
   ]
  },
  {
   "cell_type": "code",
   "execution_count": 97,
   "metadata": {},
   "outputs": [
    {
     "name": "stdout",
     "output_type": "stream",
     "text": [
      "[INFO]\tIn 0 iteration, current mean episode reward is 0.0.\n",
      "[INFO]\tIn 100 iteration, current mean episode reward is 0.89.\n",
      "[INFO]\tIn 200 iteration, current mean episode reward is 0.89.\n",
      "[INFO]\tIn 300 iteration, current mean episode reward is 0.882.\n",
      "[INFO]\tIn 400 iteration, current mean episode reward is 0.882.\n",
      "We found policy is not changed anymore at iteration 400. Current mean episode reward is 0.882. Stop training.\n"
     ]
    }
   ],
   "source": [
    "custom_config = {\n",
    "    'gamma': 0.999\n",
    "}\n",
    "\n",
    "trainer = value_iteration(train_config=custom_config)\n"
   ]
  },
  {
   "cell_type": "markdown",
   "metadata": {},
   "source": [
    "\n",
    "after my experiment:\n",
    "- With a gamma of **0.975**:\n",
    "  - The strategy settled down after 200 iterations.\n",
    "  - The expected reward was around **0.825**.\n",
    "\n",
    "- Bumping gamma up to **0.98**:\n",
    "  - Again, after 200 iterations, things didn't change much.\n",
    "  - The reward got a bit better, about **0.86**.\n",
    "\n",
    "- At gamma **0.99**:\n",
    "  - It took 300 iterations this time for things to settle.\n",
    "  - The reward still hovering around **0.86**.\n",
    "\n",
    "- Pushing gamma further to **0.995**:\n",
    "  - Settled at 300 iterations.\n",
    "  - But the reward shot up a bit to **0.89**!\n",
    "\n",
    "- And finally, with gamma cranked all the way up to **1**:\n",
    "  - Things took a bit longer, 500 iterations to be precise.\n",
    "  - The reward was around **0.882**.\n",
    "\n",
    "\n",
    "1. **The higher the gamma, the more our agent cares about the future**. It's like thinking long-term, aiming for bigger rewards down the road.\n",
    "\n",
    "2. **Reward trends**: Clearly, as gamma went up, our average rewards did too (though there's a slight dip at gamma = 1). This tells us that in this game, playing the long game (caring about future rewards) seems to work better.\n",
    "\n",
    "3. **More iterations with higher gamma**: As gamma rose, it took more loops for our agent to make up its mind. That's probably because, with a bigger gamma, the agent had to juggle more future rewards before settling on a strategy."
   ]
  },
  {
   "cell_type": "code",
   "execution_count": 98,
   "metadata": {},
   "outputs": [
    {
     "name": "stdout",
     "output_type": "stream",
     "text": [
      "+-----+-----+-----State Value Mapping-----+-----+-----+\n",
      "|     |   0 |   1 |   2 |   3 |   4 |   5 |   6 |   7 |\n",
      "|-----+-----+-----+-----+-----+-----+-----+-----+-----|\n",
      "| 0   |1.000|1.000|1.000|1.000|1.000|1.000|1.000|1.000|\n",
      "|     |     |     |     |     |     |     |     |     |\n",
      "+-----+-----+-----+-----+-----+-----+-----+-----+-----+\n",
      "| 1   |1.000|1.000|1.000|1.000|1.000|1.000|1.000|1.000|\n",
      "|     |     |     |     |     |     |     |     |     |\n",
      "+-----+-----+-----+-----+-----+-----+-----+-----+-----+\n",
      "| 2   |1.000|0.978|0.926|0.000|0.857|0.946|0.982|1.000|\n",
      "|     |     |     |     |     |     |     |     |     |\n",
      "+-----+-----+-----+-----+-----+-----+-----+-----+-----+\n",
      "| 3   |1.000|0.935|0.801|0.475|0.624|0.000|0.945|1.000|\n",
      "|     |     |     |     |     |     |     |     |     |\n",
      "+-----+-----+-----+-----+-----+-----+-----+-----+-----+\n",
      "| 4   |1.000|0.826|0.542|0.000|0.539|0.611|0.852|1.000|\n",
      "|     |     |     |     |     |     |     |     |     |\n",
      "+-----+-----+-----+-----+-----+-----+-----+-----+-----+\n",
      "| 5   |1.000|0.000|0.000|0.168|0.383|0.442|0.000|1.000|\n",
      "|     |     |     |     |     |     |     |     |     |\n",
      "+-----+-----+-----+-----+-----+-----+-----+-----+-----+\n",
      "| 6   |1.000|0.000|0.195|0.121|0.000|0.332|0.000|1.000|\n",
      "|     |     |     |     |     |     |     |     |     |\n",
      "+-----+-----+-----+-----+-----+-----+-----+-----+-----+\n",
      "| 7   |1.000|0.732|0.463|0.000|0.277|0.555|0.777|0.000|\n",
      "|     |     |     |     |     |     |     |     |     |\n",
      "+-----+-----+-----+-----+-----+-----+-----+-----+-----+\n",
      "\n"
     ]
    }
   ],
   "source": [
    "# Solve the TODO and remove `pass`\n",
    "\n",
    "# TODO: Print the value tables of these two policies and see if they match each other.\n",
    "\n",
    "pi_agent.print_table()\n",
    "\n"
   ]
  },
  {
   "cell_type": "code",
   "execution_count": 99,
   "metadata": {},
   "outputs": [
    {
     "name": "stdout",
     "output_type": "stream",
     "text": [
      "+-----+-----+-----State Value Mapping-----+-----+-----+\n",
      "|     |   0 |   1 |   2 |   3 |   4 |   5 |   6 |   7 |\n",
      "|-----+-----+-----+-----+-----+-----+-----+-----+-----|\n",
      "| 0   |0.999|0.999|0.999|0.999|0.999|0.999|0.999|0.999|\n",
      "|     |     |     |     |     |     |     |     |     |\n",
      "+-----+-----+-----+-----+-----+-----+-----+-----+-----+\n",
      "| 1   |0.999|0.999|0.999|0.999|0.999|0.999|0.999|0.999|\n",
      "|     |     |     |     |     |     |     |     |     |\n",
      "+-----+-----+-----+-----+-----+-----+-----+-----+-----+\n",
      "| 2   |0.998|0.976|0.925|0.000|0.856|0.945|0.981|0.999|\n",
      "|     |     |     |     |     |     |     |     |     |\n",
      "+-----+-----+-----+-----+-----+-----+-----+-----+-----+\n",
      "| 3   |0.997|0.932|0.799|0.474|0.623|0.000|0.944|1.000|\n",
      "|     |     |     |     |     |     |     |     |     |\n",
      "+-----+-----+-----+-----+-----+-----+-----+-----+-----+\n",
      "| 4   |0.997|0.823|0.541|0.000|0.539|0.611|0.851|1.000|\n",
      "|     |     |     |     |     |     |     |     |     |\n",
      "+-----+-----+-----+-----+-----+-----+-----+-----+-----+\n",
      "| 5   |0.996|0.000|0.000|0.168|0.383|0.442|0.000|1.000|\n",
      "|     |     |     |     |     |     |     |     |     |\n",
      "+-----+-----+-----+-----+-----+-----+-----+-----+-----+\n",
      "| 6   |0.996|0.000|0.194|0.121|0.000|0.332|0.000|1.000|\n",
      "|     |     |     |     |     |     |     |     |     |\n",
      "+-----+-----+-----+-----+-----+-----+-----+-----+-----+\n",
      "| 7   |0.996|0.728|0.461|0.000|0.277|0.555|0.777|0.000|\n",
      "|     |     |     |     |     |     |     |     |     |\n",
      "+-----+-----+-----+-----+-----+-----+-----+-----+-----+\n",
      "\n"
     ]
    }
   ],
   "source": [
    "\n",
    "\n",
    "vi_agent.print_table()\n",
    "\n",
    "\n",
    "\n"
   ]
  },
  {
   "cell_type": "code",
   "execution_count": 100,
   "metadata": {},
   "outputs": [
    {
     "name": "stdout",
     "output_type": "stream",
     "text": [
      "\n",
      "The value tables of pi_agent and vi_agent are close enough and match each other.\n"
     ]
    }
   ],
   "source": [
    "\n",
    "are_tables_close = np.allclose(pi_agent.value_table, vi_agent.value_table, atol=1e-2)\n",
    "if are_tables_close:\n",
    "    print(\"\\nThe value tables of pi_agent and vi_agent are close enough and match each other.\")\n",
    "else:\n",
    "    print(\"\\nThe value tables of pi_agent and vi_agent do not match.\")"
   ]
  },
  {
   "cell_type": "code",
   "execution_count": 101,
   "metadata": {},
   "outputs": [],
   "source": [
    "# You can do more investigation here if you wish. Leave it blank if you don't.\n"
   ]
  },
  {
   "cell_type": "markdown",
   "metadata": {},
   "source": []
  },
  {
   "cell_type": "markdown",
   "metadata": {},
   "source": [
    "------\n",
    "\n",
    "## Conclusion and Discussion\n",
    "\n",
    "In this assignment, we learn how to use the gym (now Gymnasium) library, how to use Object Oriented Programming to build a basic tabular RL algorithm.\n",
    "\n",
    "Follow the submission instruction in the README to submit your assignment. Thank you!\n",
    "\n",
    "------"
   ]
  },
  {
   "cell_type": "markdown",
   "metadata": {},
   "source": [
    "..."
   ]
  }
 ],
 "metadata": {
  "kernelspec": {
   "display_name": "Python 3 (ipykernel)",
   "language": "python",
   "name": "python3"
  },
  "language_info": {
   "codemirror_mode": {
    "name": "ipython",
    "version": 3
   },
   "file_extension": ".py",
   "mimetype": "text/x-python",
   "name": "python",
   "nbconvert_exporter": "python",
   "pygments_lexer": "ipython3",
   "version": "3.9.6"
  },
  "vscode": {
   "interpreter": {
    "hash": "b0fa6594d8f4cbf19f97940f81e996739fb7646882a419484c72d19e05852a7e"
   }
  }
 },
 "nbformat": 4,
 "nbformat_minor": 4
}
